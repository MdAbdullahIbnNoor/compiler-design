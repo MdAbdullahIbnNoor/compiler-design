{
 "cells": [
  {
   "cell_type": "code",
   "execution_count": 2,
   "id": "0039aa38",
   "metadata": {},
   "outputs": [
    {
     "name": "stdout",
     "output_type": "stream",
     "text": [
      "// it is x\n",
      "It is a comment\n",
      "Letters in comment: 5\n",
      "\n",
      "C code without comments:\n",
      " \n"
     ]
    }
   ],
   "source": [
    "import re\n",
    "\n",
    "def remove_comments(c_code):\n",
    "    # Remove single-line comments\n",
    "    c_code = re.sub(r'//.*', '', c_code)\n",
    "\n",
    "    # Remove multiline comments\n",
    "    c_code = re.sub(r'/\\*[\\s\\S]*?\\*/', '', c_code)\n",
    "\n",
    "    return c_code\n",
    "\n",
    "# Get C code input\n",
    "line = input()\n",
    "\n",
    "if re.compile(r'^(\\/\\/).*').search(line):\n",
    "    print(\"It is a comment\")\n",
    "    s = line.strip('//')\n",
    "    count = 0;\n",
    "    for i in s.split():\n",
    "        count += len(i)\n",
    "    print(\"Letters in comment: \" + str(count)) \n",
    "\n",
    "elif re.compile(r'\\/\\*[\\s\\S]*?\\*\\/').search(line):\n",
    "    if '\\\\n' in line:\n",
    "        print(\"It is a multiline comment\")\n",
    "    else: print(\"It is a comment\")\n",
    "    \n",
    "    s = line.strip('/*').replace('\\\\n', '')\n",
    "    count = 0;\n",
    "    for i in s.split():\n",
    "        count += len(i)\n",
    "    print(\"Letters in comment: \" + str(count))\n",
    "\n",
    "else:\n",
    "    print(\"It is not a comment\")\n",
    "\n",
    "# Remove comments from C code\n",
    "c_code_without_comments = remove_comments(line)\n",
    "print(\"\\nC code without comments:\\n\", c_code_without_comments)"
   ]
  },
  {
   "cell_type": "code",
   "execution_count": 15,
   "id": "be7164e1",
   "metadata": {},
   "outputs": [
    {
     "name": "stdout",
     "output_type": "stream",
     "text": [
      "y=x+6; /*x is digit */\n",
      "It is a comment\n",
      "Letters in comment: 16\n"
     ]
    }
   ],
   "source": [
    "import re\n",
    "line = input()\n",
    "\n",
    "if re.compile(r'^(\\/\\/).*').search(line):\n",
    "    print(\"It is a comment\")\n",
    "    s = line.strip('//')\n",
    "    count = 0;\n",
    "    for i in s.split():\n",
    "        count += len(i)\n",
    "    print(\"Letters in comment: \" + str(count)) \n",
    "\n",
    "elif re.compile(r'\\/\\*[\\s\\S]*?\\*\\/').search(line):\n",
    "    if '\\\\n' in line:\n",
    "        print(\"It is a multiline comment\")\n",
    "    else: print(\"It is a comment\")\n",
    "    \n",
    "    s = line.strip('/*').replace('\\\\n', '')\n",
    "    count = 0;\n",
    "    for i in s.split():\n",
    "        count += len(i)\n",
    "    print(\"Letters in comment: \" + str(count))\n",
    "\n",
    "else:\n",
    "    print(\"It is not a comment\")\n"
   ]
  },
  {
   "cell_type": "code",
   "execution_count": 7,
   "id": "3eb69955",
   "metadata": {},
   "outputs": [
    {
     "name": "stdout",
     "output_type": "stream",
     "text": [
      "/*jnkd\n",
      "It id not a comment\n"
     ]
    }
   ],
   "source": [
    "import re\n",
    "\n",
    "def remove_coments(code):\n",
    "    code=re.sub(r'//.*','',code)\n",
    "    \n",
    "    code=re.sub(r'/\\*[\\s\\S]*?\\*/', '',code)\n",
    "    return code\n",
    "line=input()\n",
    "if re.compile(r'^(\\/\\/).*').search(line):\n",
    "    print(\"It is a comment\")\n",
    "    s=line.strip('//')\n",
    "    count=0;\n",
    "    for i in s.split():\n",
    "        count+=len(i)\n",
    "    print(\"Letters is comment:\"+str(count))\n",
    "    \n",
    "elif re.compile(r'\\/\\*[\\s\\S]*?\\*\\/').search(line):\n",
    "    if '\\\\n' in line:\n",
    "        print(\"It is a  multicomment\")\n",
    "    else:\n",
    "        print(\"It is a comment\")\n",
    "    s=line.strip('/*').replace('\\\\n', '')\n",
    "    \n",
    "    count=0;\n",
    "    for i in s.split():\n",
    "        count+=len(i)\n",
    "    print(\"Letters is comment:\"+str(count))\n",
    "else:\n",
    "    print(\"It id not a comment\")\n",
    "\n",
    "    \n",
    "without_comment=remove_comments(line)\n"
   ]
  },
  {
   "cell_type": "code",
   "execution_count": null,
   "id": "beaa3fed",
   "metadata": {},
   "outputs": [],
   "source": []
  }
 ],
 "metadata": {
  "kernelspec": {
   "display_name": "Python 3 (ipykernel)",
   "language": "python",
   "name": "python3"
  },
  "language_info": {
   "codemirror_mode": {
    "name": "ipython",
    "version": 3
   },
   "file_extension": ".py",
   "mimetype": "text/x-python",
   "name": "python",
   "nbconvert_exporter": "python",
   "pygments_lexer": "ipython3",
   "version": "3.11.4"
  }
 },
 "nbformat": 4,
 "nbformat_minor": 5
}
